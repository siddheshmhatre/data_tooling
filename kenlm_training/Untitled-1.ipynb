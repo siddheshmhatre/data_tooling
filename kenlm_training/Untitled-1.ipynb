{
 "cells": [
  {
   "cell_type": "code",
   "execution_count": null,
   "metadata": {},
   "outputs": [],
   "source": [
    "from cc_net.perplexity import MultiSentencePiece, DocLM"
   ]
  },
  {
   "cell_type": "code",
   "execution_count": 2,
   "metadata": {},
   "outputs": [],
   "source": [
    "import os\n",
    "lm_dir = \"data/laion/laion2B-en/lm_sp\""
   ]
  },
  {
   "cell_type": "code",
   "execution_count": 3,
   "metadata": {},
   "outputs": [],
   "source": [
    "sp = MultiSentencePiece({\"en\": os.path.join(lm_dir, \"en.sp.model\")}, field=\"raw_content\", output_field=\"tokenized\", normalize=True)\n",
    "lm = DocLM({\"en\": os.path.join(lm_dir, \"en.arpa.bin\")}, field=\"tokenized\", output_field=\"perplexity\", normalize=False)"
   ]
  },
  {
   "cell_type": "code",
   "execution_count": 13,
   "metadata": {},
   "outputs": [],
   "source": [
    "data = {\"raw_content\": \"Photo of a cat\", \"language\": \"en\"}\n",
    "data = sp.do(data)"
   ]
  },
  {
   "cell_type": "code",
   "execution_count": 14,
   "metadata": {},
   "outputs": [
    {
     "data": {
      "text/plain": [
       "{'raw_content': 'Photo of a cat',\n",
       " 'language': 'en',\n",
       " 'tokenized': '▁photo ▁of ▁a ▁cat',\n",
       " 'perplexity': 42.8}"
      ]
     },
     "execution_count": 14,
     "metadata": {},
     "output_type": "execute_result"
    }
   ],
   "source": [
    "lm.do(data)"
   ]
  }
 ],
 "metadata": {
  "kernelspec": {
   "display_name": "bild",
   "language": "python",
   "name": "python3"
  },
  "language_info": {
   "codemirror_mode": {
    "name": "ipython",
    "version": 3
   },
   "file_extension": ".py",
   "mimetype": "text/x-python",
   "name": "python",
   "nbconvert_exporter": "python",
   "pygments_lexer": "ipython3",
   "version": "3.9.15"
  },
  "orig_nbformat": 4,
  "vscode": {
   "interpreter": {
    "hash": "e865693b12835051dd37bca9be28a1ef26ef0a2eac93943edd995bac4abb6ac2"
   }
  }
 },
 "nbformat": 4,
 "nbformat_minor": 2
}
